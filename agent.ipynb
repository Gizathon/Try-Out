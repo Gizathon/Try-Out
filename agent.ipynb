{
 "cells": [
  {
   "cell_type": "code",
   "execution_count": 1,
   "metadata": {},
   "outputs": [
    {
     "name": "stderr",
     "output_type": "stream",
     "text": [
      "c:\\Users\\tyagi\\Desktop\\Work\\Giza\\giza\\Lib\\site-packages\\tqdm\\auto.py:21: TqdmWarning: IProgress not found. Please update jupyter and ipywidgets. See https://ipywidgets.readthedocs.io/en/stable/user_install.html\n",
      "  from .autonotebook import tqdm as notebook_tqdm\n"
     ]
    }
   ],
   "source": [
    "import pprint\n",
    "import numpy as np\n",
    "from PIL import Image\n",
    "\n",
    "from giza.agents import GizaAgent, AgentResult\n",
    "\n",
    "# Make sure to fill these in\n",
    "MODEL_ID = 651\n",
    "VERSION_ID = 2\n",
    "# As we are executing in sepolia, we need to specify the chain\n",
    "CHAIN = \"ethereum:sepolia:geth\"\n",
    "# The address of the deployed contract\n",
    "MNIST_CONTRACT = \"0x17807a00bE76716B91d5ba1232dd1647c4414912\""
   ]
  },
  {
   "cell_type": "code",
   "execution_count": 2,
   "metadata": {},
   "outputs": [],
   "source": [
    "# This function is for the previous MNIST tutorial\n",
    "def preprocess_image(image_path: str):\n",
    "    \"\"\"\n",
    "    Preprocess an image for the MNIST model.\n",
    "\n",
    "    Args:\n",
    "        image_path (str): Path to the image file.\n",
    "\n",
    "    Returns:\n",
    "        np.ndarray: Preprocessed image.\n",
    "    \"\"\"\n",
    "\n",
    "    # Load image, convert to grayscale, resize and normalize\n",
    "    image = Image.open(image_path).convert('L')\n",
    "    # Resize to match the input size of the model\n",
    "    image = image.resize((14, 14))\n",
    "    image = np.array(image).astype('float32') / 255\n",
    "    image = image.reshape(1, 196)  # Reshape to (1, 196) for model input\n",
    "    return image"
   ]
  },
  {
   "cell_type": "code",
   "execution_count": 3,
   "metadata": {},
   "outputs": [],
   "source": [
    "def create_agent(model_id: int, version_id: int, chain: str, contract: str):\n",
    "    \"\"\"\n",
    "    Create a Giza agent for the MNIST model with MNIST \n",
    "    \"\"\"\n",
    "    agent = GizaAgent(\n",
    "        contracts={\"mnist\": contract},\n",
    "        id=model_id,\n",
    "        version_id=version_id,\n",
    "        chain=chain,\n",
    "        account=\"Zenith\"\n",
    "    )\n",
    "    return agent"
   ]
  },
  {
   "cell_type": "code",
   "execution_count": 4,
   "metadata": {},
   "outputs": [],
   "source": [
    "def predict(agent: GizaAgent, image: np.ndarray):\n",
    "    \"\"\"\n",
    "    Predict the digit in an image.\n",
    "\n",
    "    Args:\n",
    "        image (np.ndarray): Image to predict.\n",
    "\n",
    "    Returns:\n",
    "        int: Predicted digit.\n",
    "    \"\"\"\n",
    "    prediction = agent.predict(\n",
    "        input_feed={\"image\": image}, verifiable=True, dry_run=True\n",
    "    )\n",
    "    return prediction"
   ]
  },
  {
   "cell_type": "code",
   "execution_count": 5,
   "metadata": {},
   "outputs": [],
   "source": [
    "def get_digit(prediction: AgentResult):\n",
    "    \"\"\"\n",
    "    Get the digit from the prediction.\n",
    "\n",
    "    Args:\n",
    "        prediction (dict): Prediction from the model.\n",
    "\n",
    "    Returns:\n",
    "        int: Predicted digit.\n",
    "    \"\"\"\n",
    "    # This will block the executon until the prediction has generated the proof and the proof has been verified\n",
    "    return int(prediction.value[0].argmax())"
   ]
  },
  {
   "cell_type": "code",
   "execution_count": 6,
   "metadata": {},
   "outputs": [],
   "source": [
    "def execute_contract(agent: GizaAgent, digit: int):\n",
    "    \"\"\"\n",
    "    Execute the MNIST contract with the predicted digit to mint a new NFT.\n",
    "\n",
    "    Args:\n",
    "        agent (GizaAgent): Giza agent.\n",
    "        digit (int): Predicted digit.\n",
    "\n",
    "    Returns:\n",
    "        str: Transaction hash.\n",
    "    \"\"\"\n",
    "    with agent.execute() as contracts:\n",
    "        contract_result = contracts.mnist.mint(digit)\n",
    "        print(contract_result)\n",
    "    return contract_result"
   ]
  },
  {
   "cell_type": "code",
   "execution_count": 7,
   "metadata": {},
   "outputs": [],
   "source": [
    "def mint_nft_with_prediction():\n",
    "    # Preprocess image\n",
    "    image = preprocess_image(\"seven.png\")\n",
    "    # Create Giza agent\n",
    "    agent = create_agent(MODEL_ID, VERSION_ID, CHAIN, MNIST_CONTRACT)\n",
    "    # Predict digit\n",
    "    prediction = predict(agent, image)\n",
    "    # Get digit\n",
    "    digit = get_digit(prediction)\n",
    "    # Execute contract\n",
    "    result = execute_contract(agent, digit)\n",
    "    pprint.pprint(result)"
   ]
  },
  {
   "cell_type": "code",
   "execution_count": 8,
   "metadata": {},
   "outputs": [],
   "source": [
    "# DO NOT COMMIT YOUR PASSPHRASE\n",
    "import os\n",
    "os.environ['MY_ACCOUNT1_PASSPHRASE'] = 'a'"
   ]
  },
  {
   "cell_type": "code",
   "execution_count": 9,
   "metadata": {},
   "outputs": [
    {
     "name": "stdout",
     "output_type": "stream",
     "text": [
      "🚀 Starting deserialization process...\n",
      "✅ Deserialization completed! 🎉\n"
     ]
    },
    {
     "name": "stderr",
     "output_type": "stream",
     "text": [
      "Dry run enabled. Skipping verification.\n"
     ]
    },
    {
     "name": "stdout",
     "output_type": "stream",
     "text": [
      "INFO: Connecting to a 'tenderly' node.\n",
      "WARNING: Danger! This account will now sign any transaction it's given.\n"
     ]
    },
    {
     "ename": "ERC721InvalidSender",
     "evalue": "sender=0x0000000000000000000000000000000000000000",
     "output_type": "error",
     "traceback": [
      "\u001b[1;31m---------------------------------------------------------------------------\u001b[0m",
      "\u001b[1;31mContractCustomError\u001b[0m                       Traceback (most recent call last)",
      "File \u001b[1;32mc:\\Users\\tyagi\\Desktop\\Work\\Giza\\giza\\Lib\\site-packages\\ape_ethereum\\provider.py:309\u001b[0m, in \u001b[0;36mWeb3Provider.estimate_gas_cost\u001b[1;34m(self, txn, block_id)\u001b[0m\n\u001b[0;32m    308\u001b[0m \u001b[38;5;28;01mtry\u001b[39;00m:\n\u001b[1;32m--> 309\u001b[0m     \u001b[38;5;28;01mreturn\u001b[39;00m \u001b[38;5;28;43mself\u001b[39;49m\u001b[38;5;241;43m.\u001b[39;49m\u001b[43mweb3\u001b[49m\u001b[38;5;241;43m.\u001b[39;49m\u001b[43meth\u001b[49m\u001b[38;5;241;43m.\u001b[39;49m\u001b[43mestimate_gas\u001b[49m\u001b[43m(\u001b[49m\u001b[43mtxn_params\u001b[49m\u001b[43m,\u001b[49m\u001b[43m \u001b[49m\u001b[43mblock_identifier\u001b[49m\u001b[38;5;241;43m=\u001b[39;49m\u001b[43mblock_id\u001b[49m\u001b[43m)\u001b[49m\n\u001b[0;32m    310\u001b[0m \u001b[38;5;28;01mexcept\u001b[39;00m (\u001b[38;5;167;01mValueError\u001b[39;00m, Web3ContractLogicError) \u001b[38;5;28;01mas\u001b[39;00m err:\n\u001b[0;32m    311\u001b[0m     \u001b[38;5;66;03m# NOTE: Try to use debug_traceCall to obtain a trace.\u001b[39;00m\n\u001b[0;32m    312\u001b[0m     \u001b[38;5;66;03m#  And the RPC can be very picky with inputs.\u001b[39;00m\n",
      "File \u001b[1;32mc:\\Users\\tyagi\\Desktop\\Work\\Giza\\giza\\Lib\\site-packages\\web3\\eth\\eth.py:316\u001b[0m, in \u001b[0;36mEth.estimate_gas\u001b[1;34m(self, transaction, block_identifier, state_override)\u001b[0m\n\u001b[0;32m    310\u001b[0m \u001b[38;5;28;01mdef\u001b[39;00m \u001b[38;5;21mestimate_gas\u001b[39m(\n\u001b[0;32m    311\u001b[0m     \u001b[38;5;28mself\u001b[39m,\n\u001b[0;32m    312\u001b[0m     transaction: TxParams,\n\u001b[0;32m    313\u001b[0m     block_identifier: Optional[BlockIdentifier] \u001b[38;5;241m=\u001b[39m \u001b[38;5;28;01mNone\u001b[39;00m,\n\u001b[0;32m    314\u001b[0m     state_override: Optional[CallOverride] \u001b[38;5;241m=\u001b[39m \u001b[38;5;28;01mNone\u001b[39;00m,\n\u001b[0;32m    315\u001b[0m ) \u001b[38;5;241m-\u001b[39m\u001b[38;5;241m>\u001b[39m \u001b[38;5;28mint\u001b[39m:\n\u001b[1;32m--> 316\u001b[0m     \u001b[38;5;28;01mreturn\u001b[39;00m \u001b[38;5;28;43mself\u001b[39;49m\u001b[38;5;241;43m.\u001b[39;49m\u001b[43m_estimate_gas\u001b[49m\u001b[43m(\u001b[49m\u001b[43mtransaction\u001b[49m\u001b[43m,\u001b[49m\u001b[43m \u001b[49m\u001b[43mblock_identifier\u001b[49m\u001b[43m,\u001b[49m\u001b[43m \u001b[49m\u001b[43mstate_override\u001b[49m\u001b[43m)\u001b[49m\n",
      "File \u001b[1;32mc:\\Users\\tyagi\\Desktop\\Work\\Giza\\giza\\Lib\\site-packages\\web3\\module.py:75\u001b[0m, in \u001b[0;36mretrieve_blocking_method_call_fn.<locals>.caller\u001b[1;34m(*args, **kwargs)\u001b[0m\n\u001b[0;32m     70\u001b[0m (\n\u001b[0;32m     71\u001b[0m     result_formatters,\n\u001b[0;32m     72\u001b[0m     error_formatters,\n\u001b[0;32m     73\u001b[0m     null_result_formatters,\n\u001b[0;32m     74\u001b[0m ) \u001b[38;5;241m=\u001b[39m response_formatters\n\u001b[1;32m---> 75\u001b[0m result \u001b[38;5;241m=\u001b[39m \u001b[43mw3\u001b[49m\u001b[38;5;241;43m.\u001b[39;49m\u001b[43mmanager\u001b[49m\u001b[38;5;241;43m.\u001b[39;49m\u001b[43mrequest_blocking\u001b[49m\u001b[43m(\u001b[49m\n\u001b[0;32m     76\u001b[0m \u001b[43m    \u001b[49m\u001b[43mmethod_str\u001b[49m\u001b[43m,\u001b[49m\u001b[43m \u001b[49m\u001b[43mparams\u001b[49m\u001b[43m,\u001b[49m\u001b[43m \u001b[49m\u001b[43merror_formatters\u001b[49m\u001b[43m,\u001b[49m\u001b[43m \u001b[49m\u001b[43mnull_result_formatters\u001b[49m\n\u001b[0;32m     77\u001b[0m \u001b[43m\u001b[49m\u001b[43m)\u001b[49m\n\u001b[0;32m     78\u001b[0m \u001b[38;5;28;01mreturn\u001b[39;00m apply_result_formatters(result_formatters, result)\n",
      "File \u001b[1;32mc:\\Users\\tyagi\\Desktop\\Work\\Giza\\giza\\Lib\\site-packages\\web3\\manager.py:330\u001b[0m, in \u001b[0;36mRequestManager.request_blocking\u001b[1;34m(self, method, params, error_formatters, null_result_formatters)\u001b[0m\n\u001b[0;32m    329\u001b[0m response \u001b[38;5;241m=\u001b[39m \u001b[38;5;28mself\u001b[39m\u001b[38;5;241m.\u001b[39m_make_request(method, params)\n\u001b[1;32m--> 330\u001b[0m \u001b[38;5;28;01mreturn\u001b[39;00m \u001b[38;5;28;43mself\u001b[39;49m\u001b[38;5;241;43m.\u001b[39;49m\u001b[43mformatted_response\u001b[49m\u001b[43m(\u001b[49m\n\u001b[0;32m    331\u001b[0m \u001b[43m    \u001b[49m\u001b[43mresponse\u001b[49m\u001b[43m,\u001b[49m\u001b[43m \u001b[49m\u001b[43mparams\u001b[49m\u001b[43m,\u001b[49m\u001b[43m \u001b[49m\u001b[43merror_formatters\u001b[49m\u001b[43m,\u001b[49m\u001b[43m \u001b[49m\u001b[43mnull_result_formatters\u001b[49m\n\u001b[0;32m    332\u001b[0m \u001b[43m\u001b[49m\u001b[43m)\u001b[49m\n",
      "File \u001b[1;32mc:\\Users\\tyagi\\Desktop\\Work\\Giza\\giza\\Lib\\site-packages\\web3\\manager.py:291\u001b[0m, in \u001b[0;36mRequestManager.formatted_response\u001b[1;34m(response, params, error_formatters, null_result_formatters)\u001b[0m\n\u001b[0;32m    287\u001b[0m     _raise_bad_response_format(\n\u001b[0;32m    288\u001b[0m         response, \u001b[38;5;124m\"\u001b[39m\u001b[38;5;124merror[\u001b[39m\u001b[38;5;124m'\u001b[39m\u001b[38;5;124mmessage\u001b[39m\u001b[38;5;124m'\u001b[39m\u001b[38;5;124m] must be a string\u001b[39m\u001b[38;5;124m\"\u001b[39m\n\u001b[0;32m    289\u001b[0m     )\n\u001b[1;32m--> 291\u001b[0m \u001b[43mapply_error_formatters\u001b[49m\u001b[43m(\u001b[49m\u001b[43merror_formatters\u001b[49m\u001b[43m,\u001b[49m\u001b[43m \u001b[49m\u001b[43mresponse\u001b[49m\u001b[43m)\u001b[49m\n\u001b[0;32m    293\u001b[0m \u001b[38;5;28;01mraise\u001b[39;00m \u001b[38;5;167;01mValueError\u001b[39;00m(error)\n",
      "File \u001b[1;32mc:\\Users\\tyagi\\Desktop\\Work\\Giza\\giza\\Lib\\site-packages\\web3\\manager.py:104\u001b[0m, in \u001b[0;36mapply_error_formatters\u001b[1;34m(error_formatters, response)\u001b[0m\n\u001b[0;32m    103\u001b[0m \u001b[38;5;28;01mif\u001b[39;00m error_formatters:\n\u001b[1;32m--> 104\u001b[0m     formatted_resp \u001b[38;5;241m=\u001b[39m \u001b[43mpipe\u001b[49m\u001b[43m(\u001b[49m\u001b[43mresponse\u001b[49m\u001b[43m,\u001b[49m\u001b[43m \u001b[49m\u001b[43merror_formatters\u001b[49m\u001b[43m)\u001b[49m\n\u001b[0;32m    105\u001b[0m     \u001b[38;5;28;01mreturn\u001b[39;00m formatted_resp\n",
      "File \u001b[1;32mc:\\Users\\tyagi\\Desktop\\Work\\Giza\\giza\\Lib\\site-packages\\cytoolz\\functoolz.pyx:680\u001b[0m, in \u001b[0;36mcytoolz.functoolz.pipe\u001b[1;34m()\u001b[0m\n",
      "File \u001b[1;32mc:\\Users\\tyagi\\Desktop\\Work\\Giza\\giza\\Lib\\site-packages\\cytoolz\\functoolz.pyx:655\u001b[0m, in \u001b[0;36mcytoolz.functoolz.c_pipe\u001b[1;34m()\u001b[0m\n",
      "File \u001b[1;32mc:\\Users\\tyagi\\Desktop\\Work\\Giza\\giza\\Lib\\site-packages\\web3\\_utils\\error_formatters_utils.py:157\u001b[0m, in \u001b[0;36mraise_contract_logic_error_on_revert\u001b[1;34m(response)\u001b[0m\n\u001b[0;32m    156\u001b[0m \u001b[38;5;28;01melif\u001b[39;00m \u001b[38;5;28misinstance\u001b[39m(data, \u001b[38;5;28mstr\u001b[39m):\n\u001b[1;32m--> 157\u001b[0m     \u001b[43m_raise_contract_error\u001b[49m\u001b[43m(\u001b[49m\u001b[43mdata\u001b[49m\u001b[43m)\u001b[49m\n\u001b[0;32m    159\u001b[0m \u001b[38;5;28;01mif\u001b[39;00m message_present:\n\u001b[0;32m    160\u001b[0m     \u001b[38;5;66;03m# Geth Revert with error message and code 3 case:\u001b[39;00m\n",
      "File \u001b[1;32mc:\\Users\\tyagi\\Desktop\\Work\\Giza\\giza\\Lib\\site-packages\\web3\\_utils\\error_formatters_utils.py:129\u001b[0m, in \u001b[0;36m_raise_contract_error\u001b[1;34m(response_error_data)\u001b[0m\n\u001b[0;32m    122\u001b[0m \u001b[38;5;28;01melif\u001b[39;00m (\n\u001b[0;32m    123\u001b[0m     \u001b[38;5;28mlen\u001b[39m(response_error_data) \u001b[38;5;241m>\u001b[39m\u001b[38;5;241m=\u001b[39m \u001b[38;5;241m10\u001b[39m\n\u001b[0;32m    124\u001b[0m     \u001b[38;5;129;01mand\u001b[39;00m \u001b[38;5;129;01mnot\u001b[39;00m response_error_data[:\u001b[38;5;241m10\u001b[39m] \u001b[38;5;241m==\u001b[39m SOLIDITY_ERROR_FUNC_SELECTOR\n\u001b[1;32m   (...)\u001b[0m\n\u001b[0;32m    127\u001b[0m     \u001b[38;5;66;03m# compatibility and so that data can be accessed via 'data' attribute\u001b[39;00m\n\u001b[0;32m    128\u001b[0m     \u001b[38;5;66;03m# on the ContractCustomError exception\u001b[39;00m\n\u001b[1;32m--> 129\u001b[0m     \u001b[38;5;28;01mraise\u001b[39;00m ContractCustomError(response_error_data, data\u001b[38;5;241m=\u001b[39mresponse_error_data)\n",
      "\u001b[1;31mContractCustomError\u001b[0m: ('0x73c6ac6e0000000000000000000000000000000000000000000000000000000000000000', '0x73c6ac6e0000000000000000000000000000000000000000000000000000000000000000')",
      "\nThe above exception was the direct cause of the following exception:\n",
      "\u001b[1;31mERC721InvalidSender\u001b[0m                       Traceback (most recent call last)",
      "Cell \u001b[1;32mIn[9], line 1\u001b[0m\n\u001b[1;32m----> 1\u001b[0m \u001b[43mmint_nft_with_prediction\u001b[49m\u001b[43m(\u001b[49m\u001b[43m)\u001b[49m\n",
      "Cell \u001b[1;32mIn[7], line 11\u001b[0m, in \u001b[0;36mmint_nft_with_prediction\u001b[1;34m()\u001b[0m\n\u001b[0;32m      9\u001b[0m digit \u001b[38;5;241m=\u001b[39m get_digit(prediction)\n\u001b[0;32m     10\u001b[0m \u001b[38;5;66;03m# Execute contract\u001b[39;00m\n\u001b[1;32m---> 11\u001b[0m result \u001b[38;5;241m=\u001b[39m \u001b[43mexecute_contract\u001b[49m\u001b[43m(\u001b[49m\u001b[43magent\u001b[49m\u001b[43m,\u001b[49m\u001b[43m \u001b[49m\u001b[43mdigit\u001b[49m\u001b[43m)\u001b[49m\n\u001b[0;32m     12\u001b[0m pprint\u001b[38;5;241m.\u001b[39mpprint(result)\n",
      "Cell \u001b[1;32mIn[6], line 13\u001b[0m, in \u001b[0;36mexecute_contract\u001b[1;34m(agent, digit)\u001b[0m\n\u001b[0;32m      2\u001b[0m \u001b[38;5;250m\u001b[39m\u001b[38;5;124;03m\"\"\"\u001b[39;00m\n\u001b[0;32m      3\u001b[0m \u001b[38;5;124;03mExecute the MNIST contract with the predicted digit to mint a new NFT.\u001b[39;00m\n\u001b[0;32m      4\u001b[0m \n\u001b[1;32m   (...)\u001b[0m\n\u001b[0;32m     10\u001b[0m \u001b[38;5;124;03m    str: Transaction hash.\u001b[39;00m\n\u001b[0;32m     11\u001b[0m \u001b[38;5;124;03m\"\"\"\u001b[39;00m\n\u001b[0;32m     12\u001b[0m \u001b[38;5;28;01mwith\u001b[39;00m agent\u001b[38;5;241m.\u001b[39mexecute() \u001b[38;5;28;01mas\u001b[39;00m contracts:\n\u001b[1;32m---> 13\u001b[0m     contract_result \u001b[38;5;241m=\u001b[39m \u001b[43mcontracts\u001b[49m\u001b[38;5;241;43m.\u001b[39;49m\u001b[43mmnist\u001b[49m\u001b[38;5;241;43m.\u001b[39;49m\u001b[43mmint\u001b[49m\u001b[43m(\u001b[49m\u001b[43mdigit\u001b[49m\u001b[43m)\u001b[49m\n\u001b[0;32m     14\u001b[0m     \u001b[38;5;28mprint\u001b[39m(contract_result)\n\u001b[0;32m     15\u001b[0m \u001b[38;5;28;01mreturn\u001b[39;00m contract_result\n",
      "File \u001b[1;32mc:\\Users\\tyagi\\Desktop\\Work\\Giza\\giza\\Lib\\site-packages\\ape\\contracts\\base.py:373\u001b[0m, in \u001b[0;36mContractTransactionHandler.__call__\u001b[1;34m(self, *args, **kwargs)\u001b[0m\n\u001b[0;32m    370\u001b[0m \u001b[38;5;28;01mif\u001b[39;00m \u001b[38;5;124m\"\u001b[39m\u001b[38;5;124msender\u001b[39m\u001b[38;5;124m\"\u001b[39m \u001b[38;5;129;01mnot\u001b[39;00m \u001b[38;5;129;01min\u001b[39;00m kwargs \u001b[38;5;129;01mand\u001b[39;00m \u001b[38;5;28mself\u001b[39m\u001b[38;5;241m.\u001b[39maccount_manager\u001b[38;5;241m.\u001b[39mdefault_sender \u001b[38;5;129;01mis\u001b[39;00m \u001b[38;5;129;01mnot\u001b[39;00m \u001b[38;5;28;01mNone\u001b[39;00m:\n\u001b[0;32m    371\u001b[0m     kwargs[\u001b[38;5;124m\"\u001b[39m\u001b[38;5;124msender\u001b[39m\u001b[38;5;124m\"\u001b[39m] \u001b[38;5;241m=\u001b[39m \u001b[38;5;28mself\u001b[39m\u001b[38;5;241m.\u001b[39maccount_manager\u001b[38;5;241m.\u001b[39mdefault_sender\n\u001b[1;32m--> 373\u001b[0m \u001b[38;5;28;01mreturn\u001b[39;00m \u001b[43mcontract_transaction\u001b[49m\u001b[43m(\u001b[49m\u001b[38;5;241;43m*\u001b[39;49m\u001b[43margs\u001b[49m\u001b[43m,\u001b[49m\u001b[43m \u001b[49m\u001b[38;5;241;43m*\u001b[39;49m\u001b[38;5;241;43m*\u001b[39;49m\u001b[43mkwargs\u001b[49m\u001b[43m)\u001b[49m\n",
      "File \u001b[1;32mc:\\Users\\tyagi\\Desktop\\Work\\Giza\\giza\\Lib\\site-packages\\ape\\contracts\\base.py:307\u001b[0m, in \u001b[0;36mContractTransaction.__call__\u001b[1;34m(self, *args, **kwargs)\u001b[0m\n\u001b[0;32m    304\u001b[0m private \u001b[38;5;241m=\u001b[39m kwargs\u001b[38;5;241m.\u001b[39mget(\u001b[38;5;124m\"\u001b[39m\u001b[38;5;124mprivate\u001b[39m\u001b[38;5;124m\"\u001b[39m, \u001b[38;5;28;01mFalse\u001b[39;00m)\n\u001b[0;32m    306\u001b[0m \u001b[38;5;28;01mif\u001b[39;00m \u001b[38;5;124m\"\u001b[39m\u001b[38;5;124msender\u001b[39m\u001b[38;5;124m\"\u001b[39m \u001b[38;5;129;01min\u001b[39;00m kwargs \u001b[38;5;129;01mand\u001b[39;00m \u001b[38;5;28misinstance\u001b[39m(kwargs[\u001b[38;5;124m\"\u001b[39m\u001b[38;5;124msender\u001b[39m\u001b[38;5;124m\"\u001b[39m], AccountAPI):\n\u001b[1;32m--> 307\u001b[0m     \u001b[38;5;28;01mreturn\u001b[39;00m \u001b[43mkwargs\u001b[49m\u001b[43m[\u001b[49m\u001b[38;5;124;43m\"\u001b[39;49m\u001b[38;5;124;43msender\u001b[39;49m\u001b[38;5;124;43m\"\u001b[39;49m\u001b[43m]\u001b[49m\u001b[38;5;241;43m.\u001b[39;49m\u001b[43mcall\u001b[49m\u001b[43m(\u001b[49m\u001b[43mtxn\u001b[49m\u001b[43m,\u001b[49m\u001b[43m \u001b[49m\u001b[38;5;241;43m*\u001b[39;49m\u001b[38;5;241;43m*\u001b[39;49m\u001b[43mkwargs\u001b[49m\u001b[43m)\u001b[49m\n\u001b[0;32m    309\u001b[0m \u001b[38;5;28;01mreturn\u001b[39;00m (\n\u001b[0;32m    310\u001b[0m     \u001b[38;5;28mself\u001b[39m\u001b[38;5;241m.\u001b[39mprovider\u001b[38;5;241m.\u001b[39msend_private_transaction(txn)\n\u001b[0;32m    311\u001b[0m     \u001b[38;5;28;01mif\u001b[39;00m private\n\u001b[0;32m    312\u001b[0m     \u001b[38;5;28;01melse\u001b[39;00m \u001b[38;5;28mself\u001b[39m\u001b[38;5;241m.\u001b[39mprovider\u001b[38;5;241m.\u001b[39msend_transaction(txn)\n\u001b[0;32m    313\u001b[0m )\n",
      "File \u001b[1;32mc:\\Users\\tyagi\\Desktop\\Work\\Giza\\giza\\Lib\\site-packages\\ape\\api\\accounts.py:142\u001b[0m, in \u001b[0;36mAccountAPI.call\u001b[1;34m(self, txn, send_everything, private, **signer_options)\u001b[0m\n\u001b[0;32m    112\u001b[0m \u001b[38;5;28;01mdef\u001b[39;00m \u001b[38;5;21mcall\u001b[39m(\n\u001b[0;32m    113\u001b[0m     \u001b[38;5;28mself\u001b[39m,\n\u001b[0;32m    114\u001b[0m     txn: TransactionAPI,\n\u001b[1;32m   (...)\u001b[0m\n\u001b[0;32m    117\u001b[0m     \u001b[38;5;241m*\u001b[39m\u001b[38;5;241m*\u001b[39msigner_options,\n\u001b[0;32m    118\u001b[0m ) \u001b[38;5;241m-\u001b[39m\u001b[38;5;241m>\u001b[39m ReceiptAPI:\n\u001b[0;32m    119\u001b[0m \u001b[38;5;250m    \u001b[39m\u001b[38;5;124;03m\"\"\"\u001b[39;00m\n\u001b[0;32m    120\u001b[0m \u001b[38;5;124;03m    Make a transaction call.\u001b[39;00m\n\u001b[0;32m    121\u001b[0m \n\u001b[1;32m   (...)\u001b[0m\n\u001b[0;32m    139\u001b[0m \u001b[38;5;124;03m        :class:`~ape.api.transactions.ReceiptAPI`\u001b[39;00m\n\u001b[0;32m    140\u001b[0m \u001b[38;5;124;03m    \"\"\"\u001b[39;00m\n\u001b[1;32m--> 142\u001b[0m     txn \u001b[38;5;241m=\u001b[39m \u001b[38;5;28;43mself\u001b[39;49m\u001b[38;5;241;43m.\u001b[39;49m\u001b[43mprepare_transaction\u001b[49m\u001b[43m(\u001b[49m\u001b[43mtxn\u001b[49m\u001b[43m)\u001b[49m\n\u001b[0;32m    143\u001b[0m     max_fee \u001b[38;5;241m=\u001b[39m txn\u001b[38;5;241m.\u001b[39mmax_fee\n\u001b[0;32m    144\u001b[0m     gas_limit \u001b[38;5;241m=\u001b[39m txn\u001b[38;5;241m.\u001b[39mgas_limit\n",
      "File \u001b[1;32mc:\\Users\\tyagi\\Desktop\\Work\\Giza\\giza\\Lib\\site-packages\\ape\\api\\accounts.py:385\u001b[0m, in \u001b[0;36mAccountAPI.prepare_transaction\u001b[1;34m(self, txn)\u001b[0m\n\u001b[0;32m    382\u001b[0m \u001b[38;5;28;01melif\u001b[39;00m txn\u001b[38;5;241m.\u001b[39mnonce \u001b[38;5;241m<\u001b[39m \u001b[38;5;28mself\u001b[39m\u001b[38;5;241m.\u001b[39mnonce:\n\u001b[0;32m    383\u001b[0m     \u001b[38;5;28;01mraise\u001b[39;00m AccountsError(\u001b[38;5;124m\"\u001b[39m\u001b[38;5;124mInvalid nonce, will not publish.\u001b[39m\u001b[38;5;124m\"\u001b[39m)\n\u001b[1;32m--> 385\u001b[0m txn \u001b[38;5;241m=\u001b[39m \u001b[38;5;28;43mself\u001b[39;49m\u001b[38;5;241;43m.\u001b[39;49m\u001b[43mprovider\u001b[49m\u001b[38;5;241;43m.\u001b[39;49m\u001b[43mprepare_transaction\u001b[49m\u001b[43m(\u001b[49m\u001b[43mtxn\u001b[49m\u001b[43m)\u001b[49m\n\u001b[0;32m    387\u001b[0m \u001b[38;5;28;01mif\u001b[39;00m txn\u001b[38;5;241m.\u001b[39mtotal_transfer_value \u001b[38;5;241m>\u001b[39m \u001b[38;5;28mself\u001b[39m\u001b[38;5;241m.\u001b[39mbalance:\n\u001b[0;32m    388\u001b[0m     \u001b[38;5;28;01mraise\u001b[39;00m AccountsError(\n\u001b[0;32m    389\u001b[0m         \u001b[38;5;124mf\u001b[39m\u001b[38;5;124m\"\u001b[39m\u001b[38;5;124mTransfer value meets or exceeds account balance \u001b[39m\u001b[38;5;124m\"\u001b[39m\n\u001b[0;32m    390\u001b[0m         \u001b[38;5;124mf\u001b[39m\u001b[38;5;124m\"\u001b[39m\u001b[38;5;124mfor account \u001b[39m\u001b[38;5;124m'\u001b[39m\u001b[38;5;132;01m{\u001b[39;00m\u001b[38;5;28mself\u001b[39m\u001b[38;5;241m.\u001b[39maddress\u001b[38;5;132;01m}\u001b[39;00m\u001b[38;5;124m'\u001b[39m\u001b[38;5;124m on chain \u001b[39m\u001b[38;5;124m'\u001b[39m\u001b[38;5;132;01m{\u001b[39;00m\u001b[38;5;28mself\u001b[39m\u001b[38;5;241m.\u001b[39mprovider\u001b[38;5;241m.\u001b[39mchain_id\u001b[38;5;132;01m}\u001b[39;00m\u001b[38;5;124m'\u001b[39m\u001b[38;5;124m \u001b[39m\u001b[38;5;124m\"\u001b[39m\n\u001b[1;32m   (...)\u001b[0m\n\u001b[0;32m    393\u001b[0m         \u001b[38;5;124mf\u001b[39m\u001b[38;5;124m\"\u001b[39m\u001b[38;5;124m(transfer_value=\u001b[39m\u001b[38;5;132;01m{\u001b[39;00mtxn\u001b[38;5;241m.\u001b[39mtotal_transfer_value\u001b[38;5;132;01m}\u001b[39;00m\u001b[38;5;124m, balance=\u001b[39m\u001b[38;5;132;01m{\u001b[39;00m\u001b[38;5;28mself\u001b[39m\u001b[38;5;241m.\u001b[39mbalance\u001b[38;5;132;01m}\u001b[39;00m\u001b[38;5;124m).\u001b[39m\u001b[38;5;124m\"\u001b[39m\n\u001b[0;32m    394\u001b[0m     )\n",
      "File \u001b[1;32mc:\\Users\\tyagi\\Desktop\\Work\\Giza\\giza\\Lib\\site-packages\\ape_ethereum\\provider.py:955\u001b[0m, in \u001b[0;36mWeb3Provider.prepare_transaction\u001b[1;34m(self, txn)\u001b[0m\n\u001b[0;32m    953\u001b[0m         gas \u001b[38;5;241m=\u001b[39m \u001b[38;5;28mmin\u001b[39m(\u001b[38;5;28mint\u001b[39m(\u001b[38;5;28mself\u001b[39m\u001b[38;5;241m.\u001b[39mestimate_gas_cost(txn) \u001b[38;5;241m*\u001b[39m multiplier), \u001b[38;5;28mself\u001b[39m\u001b[38;5;241m.\u001b[39mmax_gas)\n\u001b[0;32m    954\u001b[0m     \u001b[38;5;28;01melse\u001b[39;00m:\n\u001b[1;32m--> 955\u001b[0m         gas \u001b[38;5;241m=\u001b[39m \u001b[38;5;28;43mself\u001b[39;49m\u001b[38;5;241;43m.\u001b[39;49m\u001b[43mestimate_gas_cost\u001b[49m\u001b[43m(\u001b[49m\u001b[43mtxn\u001b[49m\u001b[43m)\u001b[49m\n\u001b[0;32m    957\u001b[0m     txn\u001b[38;5;241m.\u001b[39mgas_limit \u001b[38;5;241m=\u001b[39m gas\n\u001b[0;32m    959\u001b[0m \u001b[38;5;28;01melif\u001b[39;00m gas_limit \u001b[38;5;241m==\u001b[39m \u001b[38;5;124m\"\u001b[39m\u001b[38;5;124mmax\u001b[39m\u001b[38;5;124m\"\u001b[39m:\n",
      "File \u001b[1;32mc:\\Users\\tyagi\\Desktop\\Work\\Giza\\giza\\Lib\\site-packages\\ape_ethereum\\provider.py:347\u001b[0m, in \u001b[0;36mWeb3Provider.estimate_gas_cost\u001b[1;34m(self, txn, block_id)\u001b[0m\n\u001b[0;32m    344\u001b[0m \u001b[38;5;66;03m# If this is the cause of a would-be revert,\u001b[39;00m\n\u001b[0;32m    345\u001b[0m \u001b[38;5;66;03m# raise ContractLogicError so that we can confirm tx-reverts.\u001b[39;00m\n\u001b[0;32m    346\u001b[0m \u001b[38;5;28;01mif\u001b[39;00m \u001b[38;5;28misinstance\u001b[39m(tx_error, ContractLogicError):\n\u001b[1;32m--> 347\u001b[0m     \u001b[38;5;28;01mraise\u001b[39;00m tx_error \u001b[38;5;28;01mfrom\u001b[39;00m \u001b[38;5;21;01merr\u001b[39;00m\n\u001b[0;32m    349\u001b[0m message \u001b[38;5;241m=\u001b[39m gas_estimation_error_message(tx_error)\n\u001b[0;32m    350\u001b[0m \u001b[38;5;28;01mraise\u001b[39;00m TransactionError(\n\u001b[0;32m    351\u001b[0m     message, base_err\u001b[38;5;241m=\u001b[39mtx_error, txn\u001b[38;5;241m=\u001b[39mtxn, source_traceback\u001b[38;5;241m=\u001b[39mtx_error\u001b[38;5;241m.\u001b[39msource_traceback\n\u001b[0;32m    352\u001b[0m ) \u001b[38;5;28;01mfrom\u001b[39;00m \u001b[38;5;21;01merr\u001b[39;00m\n",
      "\u001b[1;31mERC721InvalidSender\u001b[0m: sender=0x0000000000000000000000000000000000000000"
     ]
    }
   ],
   "source": [
    "mint_nft_with_prediction()"
   ]
  },
  {
   "cell_type": "code",
   "execution_count": null,
   "metadata": {},
   "outputs": [],
   "source": []
  }
 ],
 "metadata": {
  "kernelspec": {
   "display_name": "giza",
   "language": "python",
   "name": "python3"
  },
  "language_info": {
   "codemirror_mode": {
    "name": "ipython",
    "version": 3
   },
   "file_extension": ".py",
   "mimetype": "text/x-python",
   "name": "python",
   "nbconvert_exporter": "python",
   "pygments_lexer": "ipython3",
   "version": "3.11.4"
  }
 },
 "nbformat": 4,
 "nbformat_minor": 2
}
